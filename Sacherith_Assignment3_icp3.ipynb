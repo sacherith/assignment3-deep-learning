{
  "nbformat": 4,
  "nbformat_minor": 0,
  "metadata": {
    "colab": {
      "provenance": []
    },
    "kernelspec": {
      "name": "python3",
      "display_name": "Python 3"
    },
    "language_info": {
      "name": "python"
    }
  },
  "cells": [
    {
      "cell_type": "markdown",
      "source": [
        "1. Create a class Employee and then do the following\n",
        "\n",
        "• Create a data member to count the number of Employees\n",
        "\n",
        "• Create a constructor to initialize name, family, salary, department\n",
        "\n",
        "• Create a function to **average salary**\n",
        "\n",
        "• Create a Fulltime Employee class and it should inherit the properties of Employee class\n",
        "\n",
        "• Create the instances of Fulltime Employee class and Employee class and call their member functions."
      ],
      "metadata": {
        "id": "csa-Py42Y-xk"
      }
    },
    {
      "cell_type": "code",
      "source": [
        "class Employee:\n",
        "    emp_count = 0\n",
        "\n",
        "    def __init__(self, name, family, salary, department):# default constructor\n",
        "        self.name = name\n",
        "        self.family = family\n",
        "        self.salary = salary\n",
        "        self.department = department\n",
        "        Employee.emp_count += 1\n",
        "\n",
        "    def average_salary(employees):\n",
        "        employee_total_salary = sum(emp.salary for emp in employees)\n",
        "        return employee_total_salary / len(employees) if len(employees) > 0 else 0\n",
        "\n",
        "class FulltimeEmployee(Employee):\n",
        "    def __init__(self, name, family, salary, department):\n",
        "        super().__init__(name, family, salary, department)\n",
        "\n",
        "emp1 = Employee(\"Vamshi K\", \"Family K\", 90000, \"IT department\")\n",
        "emp2 = Employee(\"Raghav N\", \"Family N\", 58000, \"Maintainance\")\n",
        "emp3 = Employee(\"Nithin D\", \"Family D\", 65000, \"Management\")\n",
        "\n",
        "fulltime_emp1 = FulltimeEmployee(\"Kalyan J\", \"Family J\", 68000, \"Developement\")\n",
        "fulltime_emp2 = FulltimeEmployee(\"Ryan G\", \"Family G\", 75000, \"Customer Support\")\n",
        "\n",
        "\n",
        "employees = [emp1, emp2, emp3]\n",
        "full_emp=[fulltime_emp1, fulltime_emp2]\n",
        "# Average salaries\n",
        "average_salary_value = Employee.average_salary(employees)\n",
        "full_avg_value=FulltimeEmployee.average_salary(full_emp)\n",
        "print(f\"Total employees: {Employee.emp_count}\")\n",
        "print(f\"Average of Employees class salary: {average_salary_value}\")\n",
        "print(f\"Average of Fulltime Employees class salary: {full_avg_value}\")"
      ],
      "metadata": {
        "colab": {
          "base_uri": "https://localhost:8080/"
        },
        "id": "PEvsQsUhmwid",
        "outputId": "4e36ef9f-e144-471a-84b2-ac77ae70d85d"
      },
      "execution_count": 53,
      "outputs": [
        {
          "output_type": "stream",
          "name": "stdout",
          "text": [
            "Total employees: 5\n",
            "Average of Employees class salary: 71000.0\n",
            "Average of Fulltime Employees class salary: 71500.0\n"
          ]
        }
      ]
    },
    {
      "cell_type": "markdown",
      "source": [
        "2. Numpy\n",
        "\n",
        "Using NumPy create random vector of size 20 having only float in the range 1-20.\n",
        "\n",
        "Then **reshape** the array to 4 by 5\n",
        "\n",
        "Then replace the max in each row by 0 (axis=1)\n",
        "(you can NOT implement it via for loop)"
      ],
      "metadata": {
        "id": "a1m_c3A__i57"
      }
    },
    {
      "cell_type": "code",
      "source": [
        "import numpy as np\n",
        "\n",
        "new_vector = np.round(np.random.uniform(1, 20, size=20), 1)\n",
        "print(\"Original Matrix:\",new_vector)\n",
        "\n",
        "Reshaped_matrix = new_vector.reshape(4, 5)\n",
        "\n",
        "maximum_index = np.argmax(Reshaped_matrix, axis=1)\n",
        "Reshaped_matrix[np.arange(4), maximum_index] = 0\n",
        "print()\n",
        "print(\"Reshaped Matrix:\")\n",
        "print(Reshaped_matrix)"
      ],
      "metadata": {
        "colab": {
          "base_uri": "https://localhost:8080/"
        },
        "id": "g1oD3al9_jK-",
        "outputId": "8b076fcb-c9de-4bb4-cacb-08eda73d4e8d"
      },
      "execution_count": 52,
      "outputs": [
        {
          "output_type": "stream",
          "name": "stdout",
          "text": [
            "Original Matrix: [ 4.3  2.2  3.3 13.2 14.2  7.  10.4  4.8 15.9 16.2 13.8  9.2 16.1 17.\n",
            " 11.1 12.4 18.6 17.5  3.  16.5]\n",
            "\n",
            "Reshaped Matrix:\n",
            "[[ 4.3  2.2  3.3 13.2  0. ]\n",
            " [ 7.  10.4  4.8 15.9  0. ]\n",
            " [13.8  9.2 16.1  0.  11.1]\n",
            " [12.4  0.  17.5  3.  16.5]]\n"
          ]
        }
      ]
    }
  ]
}